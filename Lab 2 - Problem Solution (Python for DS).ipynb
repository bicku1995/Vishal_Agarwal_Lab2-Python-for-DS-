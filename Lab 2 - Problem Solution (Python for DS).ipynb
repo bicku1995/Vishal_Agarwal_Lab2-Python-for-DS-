{
 "cells": [
  {
   "cell_type": "markdown",
   "id": "1bd3906b",
   "metadata": {
    "id": "1bd3906b"
   },
   "source": [
    "## Lab Session "
   ]
  },
  {
   "cell_type": "markdown",
   "id": "ccfb2855",
   "metadata": {
    "id": "ccfb2855"
   },
   "source": [
    "### Learning Objective:\n",
    "- Working with data using python libaries.\n",
    "- Data Visualization.\n",
    "- Exploratory data analysis and data preprocessing.\n",
    "- Building a Linear regression model to predict the tip amount based on different input features."
   ]
  },
  {
   "cell_type": "markdown",
   "id": "61ef0de3",
   "metadata": {
    "id": "61ef0de3"
   },
   "source": [
    "### About the dataset (Customer Tip Data)\n",
    "\n",
    "#### Dataset Source: https://www.kaggle.com/datasets/ranjeetjain3/seaborn-tips-dataset\n",
    "\n",
    "The dataset contains information about the 244 orders served at a restaurant in the United States. Each observation includes the factors related to the order like total bill, time, the total number of people in a group, gender of the person paying for the order and so on.\n",
    "\n",
    "#### Attribute Information:\n",
    "\n",
    "- **total_bill:** Total bill (cost of the meal), including tax, in US dollars\n",
    "- **tip:** Tip in US dollars\n",
    "- **sex:** Sex of person paying for the meal\n",
    "- **smoker:** There is a smoker in a group or not\n",
    "- **day:** Day on which the order is served\n",
    "- **time:** Time of the order\n",
    "- **size:** Size of the group\n",
    "\n",
    "Food servers’ tips in restaurants may be influenced by many factors, including the nature of the restaurant, size of the party, and table locations in the restaurant. Restaurant managers need to know which factors matter when they assign tables to food servers. For the sake of staff morale, they usually want to avoid either the substance or the appearance of unfair\n",
    "treatment of the servers, for whom tips (at least in restaurants in the UnitedStates) are a major component of pay."
   ]
  },
  {
   "cell_type": "markdown",
   "id": "e4e44e06",
   "metadata": {
    "id": "e4e44e06"
   },
   "source": [
    "### Import required libraries"
   ]
  },
  {
   "cell_type": "code",
   "execution_count": 1,
   "id": "89b9d6d7",
   "metadata": {
    "id": "89b9d6d7"
   },
   "outputs": [],
   "source": [
    "import pandas as pd\n",
    "import numpy as np\n",
    "import matplotlib.pyplot as plt\n",
    "import seaborn as sns\n",
    "import warnings\n",
    "warnings.filterwarnings('ignore')"
   ]
  },
  {
   "cell_type": "markdown",
   "id": "9ead3dea",
   "metadata": {
    "id": "9ead3dea"
   },
   "source": [
    "### Load the dataset"
   ]
  },
  {
   "cell_type": "code",
   "execution_count": 2,
   "id": "a9ba115f",
   "metadata": {
    "id": "a9ba115f"
   },
   "outputs": [],
   "source": [
    "tips=sns.load_dataset(\"tips\")"
   ]
  },
  {
   "cell_type": "markdown",
   "id": "42cd8e14",
   "metadata": {
    "id": "42cd8e14"
   },
   "source": [
    "### 1. Make a list of categorical and numerical columns in the data."
   ]
  },
  {
   "cell_type": "code",
   "execution_count": 3,
   "id": "abc60524",
   "metadata": {
    "id": "abc60524"
   },
   "outputs": [
    {
     "name": "stdout",
     "output_type": "stream",
     "text": [
      "<class 'pandas.core.frame.DataFrame'>\n",
      "RangeIndex: 244 entries, 0 to 243\n",
      "Data columns (total 7 columns):\n",
      " #   Column      Non-Null Count  Dtype   \n",
      "---  ------      --------------  -----   \n",
      " 0   total_bill  244 non-null    float64 \n",
      " 1   tip         244 non-null    float64 \n",
      " 2   sex         244 non-null    category\n",
      " 3   smoker      244 non-null    category\n",
      " 4   day         244 non-null    category\n",
      " 5   time        244 non-null    category\n",
      " 6   size        244 non-null    int64   \n",
      "dtypes: category(4), float64(2), int64(1)\n",
      "memory usage: 7.4 KB\n"
     ]
    }
   ],
   "source": [
    "tips.info()"
   ]
  },
  {
   "cell_type": "code",
   "execution_count": 24,
   "id": "3e75adce",
   "metadata": {},
   "outputs": [
    {
     "data": {
      "text/plain": [
       "['total_bill', 'tip', 'size']"
      ]
     },
     "execution_count": 24,
     "metadata": {},
     "output_type": "execute_result"
    }
   ],
   "source": [
    "tips.select_dtypes(include=np.number).head().columns.tolist()\n"
   ]
  },
  {
   "cell_type": "code",
   "execution_count": 31,
   "id": "e7854fa0",
   "metadata": {},
   "outputs": [
    {
     "data": {
      "text/plain": [
       "['sex', 'smoker', 'day', 'time']"
      ]
     },
     "execution_count": 31,
     "metadata": {},
     "output_type": "execute_result"
    }
   ],
   "source": [
    "tips.select_dtypes(include='category').columns.tolist()"
   ]
  },
  {
   "cell_type": "markdown",
   "id": "41ef8841",
   "metadata": {
    "id": "41ef8841"
   },
   "source": [
    "### 2. Compute the average bill amount for each day."
   ]
  },
  {
   "cell_type": "code",
   "execution_count": 6,
   "id": "75b5c0f2",
   "metadata": {
    "id": "75b5c0f2"
   },
   "outputs": [
    {
     "data": {
      "text/html": [
       "<div>\n",
       "<style scoped>\n",
       "    .dataframe tbody tr th:only-of-type {\n",
       "        vertical-align: middle;\n",
       "    }\n",
       "\n",
       "    .dataframe tbody tr th {\n",
       "        vertical-align: top;\n",
       "    }\n",
       "\n",
       "    .dataframe thead th {\n",
       "        text-align: right;\n",
       "    }\n",
       "</style>\n",
       "<table border=\"1\" class=\"dataframe\">\n",
       "  <thead>\n",
       "    <tr style=\"text-align: right;\">\n",
       "      <th></th>\n",
       "      <th>day</th>\n",
       "      <th>total_bill</th>\n",
       "    </tr>\n",
       "  </thead>\n",
       "  <tbody>\n",
       "    <tr>\n",
       "      <th>0</th>\n",
       "      <td>Thur</td>\n",
       "      <td>17.682742</td>\n",
       "    </tr>\n",
       "    <tr>\n",
       "      <th>1</th>\n",
       "      <td>Fri</td>\n",
       "      <td>17.151579</td>\n",
       "    </tr>\n",
       "    <tr>\n",
       "      <th>2</th>\n",
       "      <td>Sat</td>\n",
       "      <td>20.441379</td>\n",
       "    </tr>\n",
       "    <tr>\n",
       "      <th>3</th>\n",
       "      <td>Sun</td>\n",
       "      <td>21.410000</td>\n",
       "    </tr>\n",
       "  </tbody>\n",
       "</table>\n",
       "</div>"
      ],
      "text/plain": [
       "    day  total_bill\n",
       "0  Thur   17.682742\n",
       "1   Fri   17.151579\n",
       "2   Sat   20.441379\n",
       "3   Sun   21.410000"
      ]
     },
     "execution_count": 6,
     "metadata": {},
     "output_type": "execute_result"
    }
   ],
   "source": [
    "tips_avg=tips.groupby('day')['total_bill'].mean().reset_index()\n",
    "tips_avg"
   ]
  },
  {
   "cell_type": "markdown",
   "id": "18894954",
   "metadata": {
    "id": "18894954"
   },
   "source": [
    "### 3. Which gender is more generous in giving tips?"
   ]
  },
  {
   "cell_type": "code",
   "execution_count": 7,
   "id": "f506a83a",
   "metadata": {
    "id": "f506a83a"
   },
   "outputs": [
    {
     "data": {
      "text/plain": [
       "sex\n",
       "Male      3.089618\n",
       "Female    2.833448\n",
       "Name: tip, dtype: float64"
      ]
     },
     "execution_count": 7,
     "metadata": {},
     "output_type": "execute_result"
    }
   ],
   "source": [
    "tips.groupby('sex')['tip'].mean()"
   ]
  },
  {
   "cell_type": "markdown",
   "id": "d955e75f",
   "metadata": {},
   "source": [
    "From the data above its clear that male is more generous in giving tips"
   ]
  },
  {
   "cell_type": "markdown",
   "id": "984e3dbf",
   "metadata": {
    "id": "984e3dbf"
   },
   "source": [
    "### 4. According to the data, were there more customers for dinner or lunch?"
   ]
  },
  {
   "cell_type": "code",
   "execution_count": 8,
   "id": "d5cabe95",
   "metadata": {
    "id": "d5cabe95"
   },
   "outputs": [
    {
     "data": {
      "text/html": [
       "<div>\n",
       "<style scoped>\n",
       "    .dataframe tbody tr th:only-of-type {\n",
       "        vertical-align: middle;\n",
       "    }\n",
       "\n",
       "    .dataframe tbody tr th {\n",
       "        vertical-align: top;\n",
       "    }\n",
       "\n",
       "    .dataframe thead th {\n",
       "        text-align: right;\n",
       "    }\n",
       "</style>\n",
       "<table border=\"1\" class=\"dataframe\">\n",
       "  <thead>\n",
       "    <tr style=\"text-align: right;\">\n",
       "      <th></th>\n",
       "      <th>time</th>\n",
       "      <th>size</th>\n",
       "    </tr>\n",
       "  </thead>\n",
       "  <tbody>\n",
       "    <tr>\n",
       "      <th>0</th>\n",
       "      <td>Lunch</td>\n",
       "      <td>164</td>\n",
       "    </tr>\n",
       "    <tr>\n",
       "      <th>1</th>\n",
       "      <td>Dinner</td>\n",
       "      <td>463</td>\n",
       "    </tr>\n",
       "  </tbody>\n",
       "</table>\n",
       "</div>"
      ],
      "text/plain": [
       "     time  size\n",
       "0   Lunch   164\n",
       "1  Dinner   463"
      ]
     },
     "execution_count": 8,
     "metadata": {},
     "output_type": "execute_result"
    }
   ],
   "source": [
    "tips.groupby('time')['size'].sum().reset_index()"
   ]
  },
  {
   "cell_type": "markdown",
   "id": "d0e18800",
   "metadata": {},
   "source": [
    "From the data above its clear that there is more inflow of customer for dinner"
   ]
  },
  {
   "cell_type": "markdown",
   "id": "6cd773f0",
   "metadata": {
    "id": "6cd773f0"
   },
   "source": [
    "### 5. Based on the statistical summary, comment on the variable 'tip'"
   ]
  },
  {
   "cell_type": "code",
   "execution_count": 9,
   "id": "6ba68900",
   "metadata": {
    "id": "6ba68900"
   },
   "outputs": [
    {
     "data": {
      "text/plain": [
       "count    244.000000\n",
       "mean       2.998279\n",
       "std        1.383638\n",
       "min        1.000000\n",
       "25%        2.000000\n",
       "50%        2.900000\n",
       "75%        3.562500\n",
       "max       10.000000\n",
       "Name: tip, dtype: float64"
      ]
     },
     "execution_count": 9,
     "metadata": {},
     "output_type": "execute_result"
    }
   ],
   "source": [
    "tips['tip'].describe()"
   ]
  },
  {
   "cell_type": "markdown",
   "id": "b860f5cd",
   "metadata": {},
   "source": [
    "Total there are 244 entries of tips given,among these entries the maximum tip recieved is 10.00 where as minimum tip is 1.00 and the average tip is 2.99"
   ]
  },
  {
   "cell_type": "markdown",
   "id": "d9c31198",
   "metadata": {
    "id": "d9c31198"
   },
   "source": [
    "### 6. Find the busiest day in terms of the orders?"
   ]
  },
  {
   "cell_type": "code",
   "execution_count": 10,
   "id": "c3d6ee67",
   "metadata": {
    "id": "c3d6ee67"
   },
   "outputs": [
    {
     "data": {
      "text/plain": [
       "Sat     87\n",
       "Sun     76\n",
       "Thur    62\n",
       "Fri     19\n",
       "Name: day, dtype: int64"
      ]
     },
     "execution_count": 10,
     "metadata": {},
     "output_type": "execute_result"
    }
   ],
   "source": [
    "tips['day'].value_counts()"
   ]
  },
  {
   "cell_type": "markdown",
   "id": "73f74271",
   "metadata": {},
   "source": [
    "Saturday was the busiest day with 87 orders"
   ]
  },
  {
   "cell_type": "markdown",
   "id": "f01ba5cf",
   "metadata": {
    "id": "f01ba5cf"
   },
   "source": [
    "### 7. Is the variable 'total_bill' skewed? If yes, identify the type of skewness. Support your answer with a plot"
   ]
  },
  {
   "cell_type": "code",
   "execution_count": 11,
   "id": "05a8b7c2",
   "metadata": {
    "id": "05a8b7c2"
   },
   "outputs": [
    {
     "data": {
      "text/plain": [
       "<AxesSubplot:xlabel='total_bill', ylabel='Count'>"
      ]
     },
     "execution_count": 11,
     "metadata": {},
     "output_type": "execute_result"
    },
    {
     "data": {
      "image/png": "[encoded data removed]",
      "text/plain": [
       "<Figure size 432x288 with 1 Axes>"
      ]
     },
     "metadata": {
      "needs_background": "light"
     },
     "output_type": "display_data"
    }
   ],
   "source": [
    "sns.histplot(data=tips,x='total_bill',kde=True)\n"
   ]
  },
  {
   "cell_type": "markdown",
   "id": "59154c3a",
   "metadata": {},
   "source": [
    "Plot depicts that there is positive skewness in the distribution to confirm lets check with mean,mode and skew"
   ]
  },
  {
   "cell_type": "code",
   "execution_count": 39,
   "id": "d42e2748",
   "metadata": {},
   "outputs": [
    {
     "name": "stdout",
     "output_type": "stream",
     "text": [
      "Mean= 19.785942622950824 Mode= 0    13.42\n",
      "Name: total_bill, dtype: float64\n"
     ]
    }
   ],
   "source": [
    "mean=tips['total_bill'].mean()\n",
    "mode=tips['total_bill'].mode()\n",
    "print(\"Mean=\",mean,\"Mode=\",mode)"
   ]
  },
  {
   "cell_type": "markdown",
   "id": "f4f44e9d",
   "metadata": {},
   "source": [
    "Mean is greater than mode so there is a positive skewness in the distribution"
   ]
  },
  {
   "cell_type": "code",
   "execution_count": 12,
   "id": "eeb4df3e",
   "metadata": {},
   "outputs": [
    {
     "data": {
      "text/plain": [
       "1.1332130376158205"
      ]
     },
     "execution_count": 12,
     "metadata": {},
     "output_type": "execute_result"
    }
   ],
   "source": [
    "tips['total_bill'].skew()"
   ]
  },
  {
   "cell_type": "markdown",
   "id": "f1d7d0c8",
   "metadata": {},
   "source": [
    "With skew data greater than 1 it confirms positive skewness"
   ]
  },
  {
   "cell_type": "markdown",
   "id": "0fe8fa86",
   "metadata": {
    "id": "0fe8fa86"
   },
   "source": [
    "### 8. Is the tip amount dependent on the total bill? Visualize the relationship with a appropriate plot and metric and write your findings."
   ]
  },
  {
   "cell_type": "code",
   "execution_count": 13,
   "id": "d45c2da4",
   "metadata": {
    "id": "d45c2da4"
   },
   "outputs": [
    {
     "data": {
      "text/plain": [
       "<AxesSubplot:xlabel='total_bill', ylabel='tip'>"
      ]
     },
     "execution_count": 13,
     "metadata": {},
     "output_type": "execute_result"
    },
    {
     "data": {
      "image/png": "[encoded data removed]",
      "text/plain": [
       "<Figure size 432x288 with 1 Axes>"
      ]
     },
     "metadata": {
      "needs_background": "light"
     },
     "output_type": "display_data"
    }
   ],
   "source": [
    "sns.regplot(x=tips['total_bill'],y=tips['tip'])"
   ]
  },
  {
   "cell_type": "markdown",
   "id": "591f8a27",
   "metadata": {},
   "source": [
    "plot clearly depicts that there is a positive relation of total bill amount and tip given,thus with increase in bill ammount customer gives more tip"
   ]
  },
  {
   "cell_type": "markdown",
   "id": "2469e9cc",
   "metadata": {
    "id": "2469e9cc"
   },
   "source": [
    "### 9. What is the percentage of males and females in the dataset? and display it in the plot"
   ]
  },
  {
   "cell_type": "code",
   "execution_count": 41,
   "id": "0dfd6414",
   "metadata": {
    "id": "0dfd6414"
   },
   "outputs": [
    {
     "data": {
      "text/plain": [
       "<AxesSubplot:ylabel='sex'>"
      ]
     },
     "execution_count": 41,
     "metadata": {},
     "output_type": "execute_result"
    },
    {
     "data": {
      "image/png": "[encoded data removed]",
      "text/plain": [
       "<Figure size 432x288 with 1 Axes>"
      ]
     },
     "metadata": {},
     "output_type": "display_data"
    }
   ],
   "source": [
    "tips['sex'].value_counts().plot(kind='pie',autopct='%.1f%%')"
   ]
  },
  {
   "cell_type": "markdown",
   "id": "e2535191",
   "metadata": {},
   "source": [
    "Males are more than females"
   ]
  },
  {
   "cell_type": "markdown",
   "id": "35e7f9bb",
   "metadata": {
    "id": "35e7f9bb"
   },
   "source": [
    "### 10. Compute the gender-wise count based on smoking habits and display it in the plot"
   ]
  },
  {
   "cell_type": "code",
   "execution_count": 46,
   "id": "f0dc5917",
   "metadata": {},
   "outputs": [
    {
     "data": {
      "text/html": [
       "<div>\n",
       "<style scoped>\n",
       "    .dataframe tbody tr th:only-of-type {\n",
       "        vertical-align: middle;\n",
       "    }\n",
       "\n",
       "    .dataframe tbody tr th {\n",
       "        vertical-align: top;\n",
       "    }\n",
       "\n",
       "    .dataframe thead th {\n",
       "        text-align: right;\n",
       "    }\n",
       "</style>\n",
       "<table border=\"1\" class=\"dataframe\">\n",
       "  <thead>\n",
       "    <tr style=\"text-align: right;\">\n",
       "      <th>smoker</th>\n",
       "      <th>Yes</th>\n",
       "      <th>No</th>\n",
       "    </tr>\n",
       "    <tr>\n",
       "      <th>sex</th>\n",
       "      <th></th>\n",
       "      <th></th>\n",
       "    </tr>\n",
       "  </thead>\n",
       "  <tbody>\n",
       "    <tr>\n",
       "      <th>Male</th>\n",
       "      <td>60</td>\n",
       "      <td>97</td>\n",
       "    </tr>\n",
       "    <tr>\n",
       "      <th>Female</th>\n",
       "      <td>33</td>\n",
       "      <td>54</td>\n",
       "    </tr>\n",
       "  </tbody>\n",
       "</table>\n",
       "</div>"
      ],
      "text/plain": [
       "smoker  Yes  No\n",
       "sex            \n",
       "Male     60  97\n",
       "Female   33  54"
      ]
     },
     "execution_count": 46,
     "metadata": {},
     "output_type": "execute_result"
    }
   ],
   "source": [
    "pd.crosstab(tips['sex'],tips['smoker'])"
   ]
  },
  {
   "cell_type": "code",
   "execution_count": 45,
   "id": "a266dd22",
   "metadata": {
    "id": "a266dd22"
   },
   "outputs": [
    {
     "data": {
      "text/plain": [
       "<AxesSubplot:xlabel='sex'>"
      ]
     },
     "execution_count": 45,
     "metadata": {},
     "output_type": "execute_result"
    },
    {
     "data": {
      "image/png": "[encoded data removed]",
      "text/plain": [
       "<Figure size 432x288 with 1 Axes>"
      ]
     },
     "metadata": {
      "needs_background": "light"
     },
     "output_type": "display_data"
    }
   ],
   "source": [
    "pd.crosstab(tips['sex'],tips['smoker']).plot(kind='bar')"
   ]
  },
  {
   "cell_type": "markdown",
   "id": "6b0cd790",
   "metadata": {},
   "source": [
    "Plot depicts that non smoker are more than smoker in both male and female"
   ]
  },
  {
   "cell_type": "markdown",
   "id": "1f8ba505",
   "metadata": {
    "id": "1f8ba505"
   },
   "source": [
    "### 11. Compute the average tip amount given for different days and display it in the plot."
   ]
  },
  {
   "cell_type": "code",
   "execution_count": 53,
   "id": "13ae2148",
   "metadata": {
    "id": "13ae2148"
   },
   "outputs": [
    {
     "name": "stdout",
     "output_type": "stream",
     "text": [
      "    day       tip\n",
      "0  Thur  2.771452\n",
      "1   Fri  2.734737\n",
      "2   Sat  2.993103\n",
      "3   Sun  3.255132\n"
     ]
    },
    {
     "data": {
      "text/plain": [
       "<AxesSubplot:>"
      ]
     },
     "execution_count": 53,
     "metadata": {},
     "output_type": "execute_result"
    },
    {
     "data": {
      "image/png": "[encoded data removed]",
      "text/plain": [
       "<Figure size 432x288 with 1 Axes>"
      ]
     },
     "metadata": {
      "needs_background": "light"
     },
     "output_type": "display_data"
    }
   ],
   "source": [
    "avg_tip=tips.groupby('day')['tip'].mean().reset_index()\n",
    "print(avg_tip)\n",
    "avg_tip.plot(kind='bar')\n"
   ]
  },
  {
   "cell_type": "markdown",
   "id": "81634c01",
   "metadata": {},
   "source": [
    "Sunday have the heighest average tip"
   ]
  },
  {
   "cell_type": "markdown",
   "id": "873f97a5",
   "metadata": {
    "id": "873f97a5"
   },
   "source": [
    "### 12. Is the average bill amount dependent on the size of the group? Visualize the relationship using appropriate plot and write your findings."
   ]
  },
  {
   "cell_type": "code",
   "execution_count": 16,
   "id": "07f676ad",
   "metadata": {
    "id": "07f676ad"
   },
   "outputs": [
    {
     "data": {
      "text/html": [
       "<div>\n",
       "<style scoped>\n",
       "    .dataframe tbody tr th:only-of-type {\n",
       "        vertical-align: middle;\n",
       "    }\n",
       "\n",
       "    .dataframe tbody tr th {\n",
       "        vertical-align: top;\n",
       "    }\n",
       "\n",
       "    .dataframe thead th {\n",
       "        text-align: right;\n",
       "    }\n",
       "</style>\n",
       "<table border=\"1\" class=\"dataframe\">\n",
       "  <thead>\n",
       "    <tr style=\"text-align: right;\">\n",
       "      <th></th>\n",
       "      <th>size</th>\n",
       "      <th>total_bill</th>\n",
       "    </tr>\n",
       "  </thead>\n",
       "  <tbody>\n",
       "    <tr>\n",
       "      <th>0</th>\n",
       "      <td>1</td>\n",
       "      <td>7.242500</td>\n",
       "    </tr>\n",
       "    <tr>\n",
       "      <th>1</th>\n",
       "      <td>2</td>\n",
       "      <td>16.448013</td>\n",
       "    </tr>\n",
       "    <tr>\n",
       "      <th>2</th>\n",
       "      <td>3</td>\n",
       "      <td>23.277632</td>\n",
       "    </tr>\n",
       "    <tr>\n",
       "      <th>3</th>\n",
       "      <td>4</td>\n",
       "      <td>28.613514</td>\n",
       "    </tr>\n",
       "    <tr>\n",
       "      <th>4</th>\n",
       "      <td>5</td>\n",
       "      <td>30.068000</td>\n",
       "    </tr>\n",
       "    <tr>\n",
       "      <th>5</th>\n",
       "      <td>6</td>\n",
       "      <td>34.830000</td>\n",
       "    </tr>\n",
       "  </tbody>\n",
       "</table>\n",
       "</div>"
      ],
      "text/plain": [
       "   size  total_bill\n",
       "0     1    7.242500\n",
       "1     2   16.448013\n",
       "2     3   23.277632\n",
       "3     4   28.613514\n",
       "4     5   30.068000\n",
       "5     6   34.830000"
      ]
     },
     "execution_count": 16,
     "metadata": {},
     "output_type": "execute_result"
    },
    {
     "data": {
      "image/png": "[encoded data removed]",
      "text/plain": [
       "<Figure size 432x288 with 1 Axes>"
      ]
     },
     "metadata": {
      "needs_background": "light"
     },
     "output_type": "display_data"
    }
   ],
   "source": [
    "tip1=tips.groupby('size')['total_bill'].mean().reset_index()\n",
    "sns.regplot(x=tip1['size'],y=tip1['total_bill'])\n",
    "tip1"
   ]
  },
  {
   "cell_type": "markdown",
   "id": "ebd32cdd",
   "metadata": {},
   "source": [
    "Plot shows positive relation which confirms that with increase in size of the group bill ammount increases"
   ]
  },
  {
   "cell_type": "markdown",
   "id": "566ae9fe",
   "metadata": {
    "id": "566ae9fe"
   },
   "source": [
    "### 13. Plot a horizontal boxplot to compare the bill amount based on gender"
   ]
  },
  {
   "cell_type": "code",
   "execution_count": 17,
   "id": "5957b3aa",
   "metadata": {
    "id": "5957b3aa"
   },
   "outputs": [
    {
     "data": {
      "text/plain": [
       "<AxesSubplot:xlabel='total_bill', ylabel='sex'>"
      ]
     },
     "execution_count": 17,
     "metadata": {},
     "output_type": "execute_result"
    },
    {
     "data": {
      "image/png": "[encoded data removed]",
      "text/plain": [
       "<Figure size 432x288 with 1 Axes>"
      ]
     },
     "metadata": {
      "needs_background": "light"
     },
     "output_type": "display_data"
    }
   ],
   "source": [
    "sns.boxplot(x=tips['total_bill'],y=tips['sex'],orient=\"h\")"
   ]
  },
  {
   "cell_type": "markdown",
   "id": "5bc13310",
   "metadata": {
    "id": "5bc13310"
   },
   "source": [
    "### 14. Find the maximum bill amount for lunch and dinner on Saturday and Sunday"
   ]
  },
  {
   "cell_type": "code",
   "execution_count": 18,
   "id": "06f56d22",
   "metadata": {
    "id": "06f56d22"
   },
   "outputs": [
    {
     "data": {
      "text/plain": [
       "day\n",
       "Sat    50.81\n",
       "Sun    48.17\n",
       "Name: total_bill, dtype: float64"
      ]
     },
     "execution_count": 18,
     "metadata": {},
     "output_type": "execute_result"
    }
   ],
   "source": [
    "a=tips.groupby('day')['total_bill'].max()\n",
    "a.loc[['Sat','Sun']]"
   ]
  },
  {
   "cell_type": "markdown",
   "id": "aa484774",
   "metadata": {
    "id": "aa484774"
   },
   "source": [
    "### 15. Compute the percentage of missing values in the dataset."
   ]
  },
  {
   "cell_type": "code",
   "execution_count": 19,
   "id": "5c9bf12e",
   "metadata": {
    "id": "5c9bf12e"
   },
   "outputs": [
    {
     "data": {
      "text/plain": [
       "total_bill    0.0\n",
       "tip           0.0\n",
       "sex           0.0\n",
       "smoker        0.0\n",
       "day           0.0\n",
       "time          0.0\n",
       "size          0.0\n",
       "dtype: float64"
      ]
     },
     "execution_count": 19,
     "metadata": {},
     "output_type": "execute_result"
    }
   ],
   "source": [
    "(tips.isna().sum())*100/len(tips)"
   ]
  },
  {
   "cell_type": "markdown",
   "id": "abfaf333",
   "metadata": {
    "id": "abfaf333"
   },
   "source": [
    "### 16. Is there are any duplicate records in the dataset? If yes compute the count of the duplicate records and drop them."
   ]
  },
  {
   "cell_type": "code",
   "execution_count": 20,
   "id": "751f4641",
   "metadata": {
    "id": "751f4641"
   },
   "outputs": [
    {
     "data": {
      "text/plain": [
       "1"
      ]
     },
     "execution_count": 20,
     "metadata": {},
     "output_type": "execute_result"
    }
   ],
   "source": [
    "tips.duplicated().sum()\n"
   ]
  },
  {
   "cell_type": "code",
   "execution_count": 55,
   "id": "8b0208a0",
   "metadata": {},
   "outputs": [
    {
     "data": {
      "text/plain": [
       "0"
      ]
     },
     "execution_count": 55,
     "metadata": {},
     "output_type": "execute_result"
    }
   ],
   "source": [
    "dr=tips.drop_duplicates()\n",
    "dr.duplicated().sum()\n"
   ]
  },
  {
   "cell_type": "markdown",
   "id": "114c3605",
   "metadata": {},
   "source": [
    "One duplicated value dropped"
   ]
  },
  {
   "cell_type": "markdown",
   "id": "4aa4a763",
   "metadata": {
    "id": "4aa4a763"
   },
   "source": [
    "### 17. Is there are any outliers present in the column 'total_bill'? If yes treat them with transformation approach, and plot a boxplot before and after the treatment"
   ]
  },
  {
   "cell_type": "code",
   "execution_count": 60,
   "id": "c6885f21",
   "metadata": {
    "id": "c6885f21"
   },
   "outputs": [
    {
     "data": {
      "image/png": "[encoded data removed]",
      "text/plain": [
       "<Figure size 432x288 with 1 Axes>"
      ]
     },
     "metadata": {
      "needs_background": "light"
     },
     "output_type": "display_data"
    }
   ],
   "source": [
    "sns.boxplot(tips['total_bill'],orient='h')\n",
    "plt.show()"
   ]
  },
  {
   "cell_type": "code",
   "execution_count": 59,
   "id": "7105ee0a",
   "metadata": {},
   "outputs": [
    {
     "data": {
      "image/png": "[encoded data removed]",
      "text/plain": [
       "<Figure size 432x288 with 1 Axes>"
      ]
     },
     "metadata": {
      "needs_background": "light"
     },
     "output_type": "display_data"
    }
   ],
   "source": [
    "data_log=np.log(tips['total_bill'])\n",
    "sns.boxplot(data_log,orient='h')\n",
    "plt.show()"
   ]
  },
  {
   "cell_type": "markdown",
   "id": "2e8bfa6f",
   "metadata": {
    "id": "2e8bfa6f"
   },
   "source": [
    "### 18. Is there are any outliers present in the column 'tip'? If yes remove them using IQR techinque."
   ]
  },
  {
   "cell_type": "code",
   "execution_count": 62,
   "id": "29d3f9e0",
   "metadata": {
    "id": "29d3f9e0"
   },
   "outputs": [
    {
     "data": {
      "image/png": "[encoded data removed]",
      "text/plain": [
       "<Figure size 432x288 with 1 Axes>"
      ]
     },
     "metadata": {
      "needs_background": "light"
     },
     "output_type": "display_data"
    }
   ],
   "source": [
    "sns.boxplot(tips['tip'],orient='h')\n",
    "plt.show()"
   ]
  },
  {
   "cell_type": "code",
   "execution_count": 66,
   "id": "47a06fb5",
   "metadata": {},
   "outputs": [
    {
     "name": "stdout",
     "output_type": "stream",
     "text": [
      "Q1= 2.0 Q2= 2.9 Q3= 3.5625\n",
      "IQR= 1.5625\n",
      "Lower Wisker= -0.34375 Upper Wisker= 5.90625\n"
     ]
    }
   ],
   "source": [
    "Q1=tips['tip'].quantile(0.25)\n",
    "Q3=tips['tip'].quantile(0.75)\n",
    "Q2=tips['tip'].quantile(0.50)\n",
    "IQR=Q3-Q1\n",
    "L_W=Q1-(1.5*IQR)\n",
    "U_W=Q3+(1.5*IQR)\n",
    "print(\"Q1=\",Q1,\"Q2=\",Q2,\"Q3=\",Q3)\n",
    "print(\"IQR=\",IQR)\n",
    "print(\"Lower Wisker=\",L_W,\"Upper Wisker=\",U_W)\n"
   ]
  },
  {
   "cell_type": "code",
   "execution_count": 67,
   "id": "c7312f8f",
   "metadata": {},
   "outputs": [
    {
     "data": {
      "image/png": "[encoded data removed]",
      "text/plain": [
       "<Figure size 432x288 with 1 Axes>"
      ]
     },
     "metadata": {
      "needs_background": "light"
     },
     "output_type": "display_data"
    }
   ],
   "source": [
    "df_iqr=tips.loc[(tips['tip']<U_W)&(tips['tip']>L_W)]\n",
    "sns.boxplot(df_iqr['tip'])\n",
    "plt.show()"
   ]
  },
  {
   "cell_type": "markdown",
   "id": "10d91bd7",
   "metadata": {
    "id": "10d91bd7"
   },
   "source": [
    "### 19. Encode the categorical columns in the dataset and print the random 5 samples from the dataframe."
   ]
  },
  {
   "cell_type": "code",
   "execution_count": 86,
   "id": "05ad1918",
   "metadata": {
    "id": "05ad1918"
   },
   "outputs": [
    {
     "data": {
      "text/html": [
       "<div>\n",
       "<style scoped>\n",
       "    .dataframe tbody tr th:only-of-type {\n",
       "        vertical-align: middle;\n",
       "    }\n",
       "\n",
       "    .dataframe tbody tr th {\n",
       "        vertical-align: top;\n",
       "    }\n",
       "\n",
       "    .dataframe thead th {\n",
       "        text-align: right;\n",
       "    }\n",
       "</style>\n",
       "<table border=\"1\" class=\"dataframe\">\n",
       "  <thead>\n",
       "    <tr style=\"text-align: right;\">\n",
       "      <th></th>\n",
       "      <th>total_bill</th>\n",
       "      <th>tip</th>\n",
       "      <th>size</th>\n",
       "      <th>total_billmm</th>\n",
       "      <th>sex_Female</th>\n",
       "      <th>smoker_No</th>\n",
       "      <th>day_Fri</th>\n",
       "      <th>day_Sat</th>\n",
       "      <th>day_Sun</th>\n",
       "      <th>time_Dinner</th>\n",
       "    </tr>\n",
       "  </thead>\n",
       "  <tbody>\n",
       "    <tr>\n",
       "      <th>21</th>\n",
       "      <td>20.29</td>\n",
       "      <td>2.75</td>\n",
       "      <td>2</td>\n",
       "      <td>0.360704</td>\n",
       "      <td>1</td>\n",
       "      <td>1</td>\n",
       "      <td>0</td>\n",
       "      <td>1</td>\n",
       "      <td>0</td>\n",
       "      <td>1</td>\n",
       "    </tr>\n",
       "    <tr>\n",
       "      <th>93</th>\n",
       "      <td>16.32</td>\n",
       "      <td>4.30</td>\n",
       "      <td>2</td>\n",
       "      <td>0.277545</td>\n",
       "      <td>1</td>\n",
       "      <td>0</td>\n",
       "      <td>1</td>\n",
       "      <td>0</td>\n",
       "      <td>0</td>\n",
       "      <td>1</td>\n",
       "    </tr>\n",
       "    <tr>\n",
       "      <th>173</th>\n",
       "      <td>31.85</td>\n",
       "      <td>3.18</td>\n",
       "      <td>2</td>\n",
       "      <td>0.602849</td>\n",
       "      <td>0</td>\n",
       "      <td>0</td>\n",
       "      <td>0</td>\n",
       "      <td>0</td>\n",
       "      <td>1</td>\n",
       "      <td>1</td>\n",
       "    </tr>\n",
       "    <tr>\n",
       "      <th>171</th>\n",
       "      <td>15.81</td>\n",
       "      <td>3.16</td>\n",
       "      <td>2</td>\n",
       "      <td>0.266862</td>\n",
       "      <td>0</td>\n",
       "      <td>0</td>\n",
       "      <td>0</td>\n",
       "      <td>1</td>\n",
       "      <td>0</td>\n",
       "      <td>1</td>\n",
       "    </tr>\n",
       "    <tr>\n",
       "      <th>69</th>\n",
       "      <td>15.01</td>\n",
       "      <td>2.09</td>\n",
       "      <td>2</td>\n",
       "      <td>0.250105</td>\n",
       "      <td>0</td>\n",
       "      <td>0</td>\n",
       "      <td>0</td>\n",
       "      <td>1</td>\n",
       "      <td>0</td>\n",
       "      <td>1</td>\n",
       "    </tr>\n",
       "  </tbody>\n",
       "</table>\n",
       "</div>"
      ],
      "text/plain": [
       "     total_bill   tip  size  total_billmm  sex_Female  smoker_No  day_Fri  \\\n",
       "21        20.29  2.75     2      0.360704           1          1        0   \n",
       "93        16.32  4.30     2      0.277545           1          0        1   \n",
       "173       31.85  3.18     2      0.602849           0          0        0   \n",
       "171       15.81  3.16     2      0.266862           0          0        0   \n",
       "69        15.01  2.09     2      0.250105           0          0        0   \n",
       "\n",
       "     day_Sat  day_Sun  time_Dinner  \n",
       "21         1        0            1  \n",
       "93         0        0            1  \n",
       "173        0        1            1  \n",
       "171        1        0            1  \n",
       "69         1        0            1  "
      ]
     },
     "execution_count": 86,
     "metadata": {},
     "output_type": "execute_result"
    }
   ],
   "source": [
    "tips=pd.get_dummies(tips,drop_first=True)\n",
    "tips.sample(5)"
   ]
  },
  {
   "cell_type": "markdown",
   "id": "54ebc8e9",
   "metadata": {
    "id": "54ebc8e9"
   },
   "source": [
    "### 20. Check the range of the column 'total_bill' and transform the values such that the range will be 1."
   ]
  },
  {
   "cell_type": "code",
   "execution_count": 87,
   "id": "fb841382",
   "metadata": {
    "id": "fb841382"
   },
   "outputs": [
    {
     "name": "stdout",
     "output_type": "stream",
     "text": [
      "Before transformation range= 47.74\n",
      "After transformation range= 0.9999999999999999\n"
     ]
    }
   ],
   "source": [
    "tb_max=tips['total_bill'].max()\n",
    "tb_min=tips['total_bill'].min()\n",
    "range1=tb_max-tb_min\n",
    "print(\"Before transformation range=\", range1)\n",
    "from sklearn.preprocessing import MinMaxScaler\n",
    "tips['total_billmm']=MinMaxScaler().fit_transform(tips[['total_bill']])\n",
    "tb_max2=tips['total_billmm'].max()\n",
    "tb_min2=tips['total_billmm'].min()\n",
    "range2=tb_max2-tb_min2\n",
    "print(\"After transformation range=\",range2)"
   ]
  },
  {
   "cell_type": "markdown",
   "id": "_yaGehJD5Fhe",
   "metadata": {
    "id": "_yaGehJD5Fhe"
   },
   "source": [
    "### 21. Load the dataset again by giving the name of the dataframe as \"tips_df\"\n",
    "- i) Encode the categorical variables.\n",
    "- ii) Store the target column (i.e.tip) in the y variable and the rest of the columns in the X variable"
   ]
  },
  {
   "cell_type": "code",
   "execution_count": 88,
   "id": "ruS7FI5s5Jt2",
   "metadata": {
    "id": "ruS7FI5s5Jt2"
   },
   "outputs": [
    {
     "data": {
      "text/html": [
       "<div>\n",
       "<style scoped>\n",
       "    .dataframe tbody tr th:only-of-type {\n",
       "        vertical-align: middle;\n",
       "    }\n",
       "\n",
       "    .dataframe tbody tr th {\n",
       "        vertical-align: top;\n",
       "    }\n",
       "\n",
       "    .dataframe thead th {\n",
       "        text-align: right;\n",
       "    }\n",
       "</style>\n",
       "<table border=\"1\" class=\"dataframe\">\n",
       "  <thead>\n",
       "    <tr style=\"text-align: right;\">\n",
       "      <th></th>\n",
       "      <th>total_bill</th>\n",
       "      <th>tip</th>\n",
       "      <th>size</th>\n",
       "      <th>total_billmm</th>\n",
       "      <th>sex_Female</th>\n",
       "      <th>smoker_No</th>\n",
       "      <th>day_Fri</th>\n",
       "      <th>day_Sat</th>\n",
       "      <th>day_Sun</th>\n",
       "      <th>time_Dinner</th>\n",
       "    </tr>\n",
       "  </thead>\n",
       "  <tbody>\n",
       "    <tr>\n",
       "      <th>9</th>\n",
       "      <td>14.78</td>\n",
       "      <td>3.23</td>\n",
       "      <td>2</td>\n",
       "      <td>0.245287</td>\n",
       "      <td>0</td>\n",
       "      <td>1</td>\n",
       "      <td>0</td>\n",
       "      <td>0</td>\n",
       "      <td>1</td>\n",
       "      <td>1</td>\n",
       "    </tr>\n",
       "    <tr>\n",
       "      <th>110</th>\n",
       "      <td>14.00</td>\n",
       "      <td>3.00</td>\n",
       "      <td>2</td>\n",
       "      <td>0.228948</td>\n",
       "      <td>0</td>\n",
       "      <td>1</td>\n",
       "      <td>0</td>\n",
       "      <td>1</td>\n",
       "      <td>0</td>\n",
       "      <td>1</td>\n",
       "    </tr>\n",
       "    <tr>\n",
       "      <th>227</th>\n",
       "      <td>20.45</td>\n",
       "      <td>3.00</td>\n",
       "      <td>4</td>\n",
       "      <td>0.364055</td>\n",
       "      <td>0</td>\n",
       "      <td>1</td>\n",
       "      <td>0</td>\n",
       "      <td>1</td>\n",
       "      <td>0</td>\n",
       "      <td>1</td>\n",
       "    </tr>\n",
       "    <tr>\n",
       "      <th>28</th>\n",
       "      <td>21.70</td>\n",
       "      <td>4.30</td>\n",
       "      <td>2</td>\n",
       "      <td>0.390239</td>\n",
       "      <td>0</td>\n",
       "      <td>1</td>\n",
       "      <td>0</td>\n",
       "      <td>1</td>\n",
       "      <td>0</td>\n",
       "      <td>1</td>\n",
       "    </tr>\n",
       "    <tr>\n",
       "      <th>45</th>\n",
       "      <td>18.29</td>\n",
       "      <td>3.00</td>\n",
       "      <td>2</td>\n",
       "      <td>0.318810</td>\n",
       "      <td>0</td>\n",
       "      <td>1</td>\n",
       "      <td>0</td>\n",
       "      <td>0</td>\n",
       "      <td>1</td>\n",
       "      <td>1</td>\n",
       "    </tr>\n",
       "  </tbody>\n",
       "</table>\n",
       "</div>"
      ],
      "text/plain": [
       "     total_bill   tip  size  total_billmm  sex_Female  smoker_No  day_Fri  \\\n",
       "9         14.78  3.23     2      0.245287           0          1        0   \n",
       "110       14.00  3.00     2      0.228948           0          1        0   \n",
       "227       20.45  3.00     4      0.364055           0          1        0   \n",
       "28        21.70  4.30     2      0.390239           0          1        0   \n",
       "45        18.29  3.00     2      0.318810           0          1        0   \n",
       "\n",
       "     day_Sat  day_Sun  time_Dinner  \n",
       "9          0        1            1  \n",
       "110        1        0            1  \n",
       "227        1        0            1  \n",
       "28         1        0            1  \n",
       "45         0        1            1  "
      ]
     },
     "execution_count": 88,
     "metadata": {},
     "output_type": "execute_result"
    }
   ],
   "source": [
    "tips_df=tips.copy()\n",
    "\n",
    "#i) Encode the categorical variables.\n",
    "tips_df=pd.get_dummies(tips_df,drop_first=True)\n",
    "tips_df.sample(5)\n"
   ]
  },
  {
   "cell_type": "code",
   "execution_count": 89,
   "id": "b3de9f78",
   "metadata": {},
   "outputs": [],
   "source": [
    "#ii) Store the target column (i.e.tip) in the y variable and the rest of the columns in the X variable\n",
    "y=tips_df['tip']\n",
    "x=tips_df.drop(['tip'],axis=1)"
   ]
  },
  {
   "cell_type": "markdown",
   "id": "6jnqKmXQ5KB9",
   "metadata": {
    "id": "6jnqKmXQ5KB9"
   },
   "source": [
    "### 22. Split the dataset into two parts (i.e. 70% train and 30% test), and Standardize the columns \"total_bill\" and \"Size\" using the mim_max scaling approach"
   ]
  },
  {
   "cell_type": "code",
   "execution_count": 91,
   "id": "l-jHM1e_5OSp",
   "metadata": {
    "id": "l-jHM1e_5OSp"
   },
   "outputs": [
    {
     "data": {
      "text/html": [
       "<div>\n",
       "<style scoped>\n",
       "    .dataframe tbody tr th:only-of-type {\n",
       "        vertical-align: middle;\n",
       "    }\n",
       "\n",
       "    .dataframe tbody tr th {\n",
       "        vertical-align: top;\n",
       "    }\n",
       "\n",
       "    .dataframe thead th {\n",
       "        text-align: right;\n",
       "    }\n",
       "</style>\n",
       "<table border=\"1\" class=\"dataframe\">\n",
       "  <thead>\n",
       "    <tr style=\"text-align: right;\">\n",
       "      <th></th>\n",
       "      <th>total_bill</th>\n",
       "      <th>tip</th>\n",
       "      <th>size</th>\n",
       "      <th>total_billmm</th>\n",
       "      <th>sex_Female</th>\n",
       "      <th>smoker_No</th>\n",
       "      <th>day_Fri</th>\n",
       "      <th>day_Sat</th>\n",
       "      <th>day_Sun</th>\n",
       "      <th>time_Dinner</th>\n",
       "    </tr>\n",
       "  </thead>\n",
       "  <tbody>\n",
       "    <tr>\n",
       "      <th>0</th>\n",
       "      <td>0.291579</td>\n",
       "      <td>1.01</td>\n",
       "      <td>0.2</td>\n",
       "      <td>0.291579</td>\n",
       "      <td>1</td>\n",
       "      <td>1</td>\n",
       "      <td>0</td>\n",
       "      <td>0</td>\n",
       "      <td>1</td>\n",
       "      <td>1</td>\n",
       "    </tr>\n",
       "    <tr>\n",
       "      <th>1</th>\n",
       "      <td>0.152283</td>\n",
       "      <td>1.66</td>\n",
       "      <td>0.4</td>\n",
       "      <td>0.152283</td>\n",
       "      <td>0</td>\n",
       "      <td>1</td>\n",
       "      <td>0</td>\n",
       "      <td>0</td>\n",
       "      <td>1</td>\n",
       "      <td>1</td>\n",
       "    </tr>\n",
       "    <tr>\n",
       "      <th>2</th>\n",
       "      <td>0.375786</td>\n",
       "      <td>3.50</td>\n",
       "      <td>0.4</td>\n",
       "      <td>0.375786</td>\n",
       "      <td>0</td>\n",
       "      <td>1</td>\n",
       "      <td>0</td>\n",
       "      <td>0</td>\n",
       "      <td>1</td>\n",
       "      <td>1</td>\n",
       "    </tr>\n",
       "    <tr>\n",
       "      <th>3</th>\n",
       "      <td>0.431713</td>\n",
       "      <td>3.31</td>\n",
       "      <td>0.2</td>\n",
       "      <td>0.431713</td>\n",
       "      <td>0</td>\n",
       "      <td>1</td>\n",
       "      <td>0</td>\n",
       "      <td>0</td>\n",
       "      <td>1</td>\n",
       "      <td>1</td>\n",
       "    </tr>\n",
       "    <tr>\n",
       "      <th>4</th>\n",
       "      <td>0.450775</td>\n",
       "      <td>3.61</td>\n",
       "      <td>0.6</td>\n",
       "      <td>0.450775</td>\n",
       "      <td>1</td>\n",
       "      <td>1</td>\n",
       "      <td>0</td>\n",
       "      <td>0</td>\n",
       "      <td>1</td>\n",
       "      <td>1</td>\n",
       "    </tr>\n",
       "  </tbody>\n",
       "</table>\n",
       "</div>"
      ],
      "text/plain": [
       "   total_bill   tip  size  total_billmm  sex_Female  smoker_No  day_Fri  \\\n",
       "0    0.291579  1.01   0.2      0.291579           1          1        0   \n",
       "1    0.152283  1.66   0.4      0.152283           0          1        0   \n",
       "2    0.375786  3.50   0.4      0.375786           0          1        0   \n",
       "3    0.431713  3.31   0.2      0.431713           0          1        0   \n",
       "4    0.450775  3.61   0.6      0.450775           1          1        0   \n",
       "\n",
       "   day_Sat  day_Sun  time_Dinner  \n",
       "0        0        1            1  \n",
       "1        0        1            1  \n",
       "2        0        1            1  \n",
       "3        0        1            1  \n",
       "4        0        1            1  "
      ]
     },
     "execution_count": 91,
     "metadata": {},
     "output_type": "execute_result"
    }
   ],
   "source": [
    "from sklearn.model_selection import train_test_split\n",
    "x_train,x_test,y_train,y_test=train_test_split(x,y,test_size=0.30,train_size=0.70,random_state=88,shuffle=True)\n",
    "\n",
    "from sklearn.preprocessing import MinMaxScaler\n",
    "tips_df[['total_bill','size']]=MinMaxScaler().fit_transform(tips_df[['total_bill','size']])\n",
    "tips_df.head(5)\n",
    "\n"
   ]
  },
  {
   "cell_type": "markdown",
   "id": "6L5jwTPW5Oh-",
   "metadata": {
    "id": "6L5jwTPW5Oh-"
   },
   "source": [
    "### 23. Train a linear regression model using the training data and print the r_squared value of the prediction on the test data."
   ]
  },
  {
   "cell_type": "code",
   "execution_count": 95,
   "id": "HODaP3gg5SHY",
   "metadata": {
    "id": "HODaP3gg5SHY"
   },
   "outputs": [
    {
     "data": {
      "text/plain": [
       "0.4192081043993674"
      ]
     },
     "execution_count": 95,
     "metadata": {},
     "output_type": "execute_result"
    }
   ],
   "source": [
    "from sklearn.linear_model import LinearRegression\n",
    "lr=LinearRegression()\n",
    "lr.fit(x_train,y_train)\n",
    "lr.predict(x_test)\n",
    "from sklearn.metrics import r2_score\n",
    "R2=r2_score(y_test,y_pred)\n",
    "R2"
   ]
  },
  {
   "cell_type": "markdown",
   "id": "388b6163",
   "metadata": {
    "id": "388b6163"
   },
   "source": [
    "### Happy Learning:)"
   ]
  },
  {
   "cell_type": "code",
   "execution_count": null,
   "id": "f9ed3cd0",
   "metadata": {},
   "outputs": [],
   "source": []
  }
 ],
 "metadata": {
  "colab": {
   "name": "W3 - W6 Lab Session.ipynb",
   "provenance": []
  },
  "kernelspec": {
   "display_name": "Python 3 (ipykernel)",
   "language": "python",
   "name": "python3"
  },
  "language_info": {
   "codemirror_mode": {
    "name": "ipython",
    "version": 3
   },
   "file_extension": ".py",
   "mimetype": "text/x-python",
   "name": "python",
   "nbconvert_exporter": "python",
   "pygments_lexer": "ipython3",
   "version": "3.9.12"
  }
 },
 "nbformat": 4,
 "nbformat_minor": 5
}
